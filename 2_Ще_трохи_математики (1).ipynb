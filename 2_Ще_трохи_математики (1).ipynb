{
  "nbformat": 4,
  "nbformat_minor": 0,
  "metadata": {
    "colab": {
      "name": "2. Ще трохи математики",
      "provenance": [],
      "toc_visible": true
    },
    "kernelspec": {
      "name": "python3",
      "display_name": "Python 3"
    },
    "language_info": {
      "name": "python"
    }
  },
  "cells": [
    {
      "cell_type": "markdown",
      "metadata": {
        "id": "nspjmpTrxgZS"
      },
      "source": [
        "# Ще трохи математики"
      ]
    },
    {
      "cell_type": "markdown",
      "metadata": {
        "id": "9NqHzlZ2xtID"
      },
      "source": [
        "1. Обчисліть радіус кола, знаючи його площу. Нагадаємо формулу:\n",
        "$$\n",
        "  S=\\pi*R^2 => R =\\sqrt{\\frac{S}{\\pi}}\n",
        "$$\n",
        "Для обчислення скористаємось знайомими функціями ```sqrt``` та ```pi``` з пакету ```math```.\n"
      ]
    },
    {
      "cell_type": "code",
      "metadata": {
        "colab": {
          "base_uri": "https://localhost:8080/"
        },
        "id": "csfYPusD0mWX",
        "outputId": "2fd0d9e4-9440-49e1-ea07-47c68f7b5a09"
      },
      "source": [
        "from math import sqrt,pi\n",
        "S = float(input('Введіть площу кола: '))\n",
        "r = sqrt(S/pi)\n",
        "print ('Радіус дорівнює %6.3f см' %r)"
      ],
      "execution_count": null,
      "outputs": [
        {
          "output_type": "stream",
          "name": "stdout",
          "text": [
            "Введіть площу кола: 25\n",
            "Радіус дорівнює  2.821 см\n"
          ]
        }
      ]
    },
    {
      "cell_type": "markdown",
      "metadata": {
        "id": "e7Ed3mEp11Rw"
      },
      "source": [
        "2. А тепер за зразком знайдіть в наступній комірці площу сфери та об'єм кулі. Нагадуємо формули:\n",
        "$$\n",
        "  S=4*\\pi*R^2    \n",
        "$$\n",
        "$$\n",
        "  V=\\frac{4}{3}*\\pi*R^3\n",
        "$$\n",
        "Також нагадаємо, що ступінь в Python задається так: ```**```"
      ]
    },
    {
      "cell_type": "code",
      "metadata": {
        "id": "sTFMO4Xp3fgO",
        "colab": {
          "base_uri": "https://localhost:8080/"
        },
        "outputId": "0129205c-0e2b-4c27-e534-67fa3a554840"
      },
      "source": [
        "from math import pi\n",
        "\n",
        "R = float(input('Введіть радіус сфери (в сантиметрах): '))\n",
        "\n",
        "S = 4 * pi * R**2\n",
        "\n",
        "V = (4/3) * pi * R**3\n",
        "\n",
        "print('Площа поверхні сфери дорівнює %6.3f кв. см' % S)\n",
        "print('Об\\'єм кулі дорівнює %6.3f куб. см' % V)"
      ],
      "execution_count": 1,
      "outputs": [
        {
          "output_type": "stream",
          "name": "stdout",
          "text": [
            "Введіть радіус сфери (в сантиметрах): 4\n",
            "Площа поверхні сфери дорівнює 201.062 кв. см\n",
            "Об'єм кулі дорівнює 268.083 куб. см\n"
          ]
        }
      ]
    },
    {
      "cell_type": "markdown",
      "metadata": {
        "id": "Ki46Slel5ASd"
      },
      "source": [
        "3. А ще давайте переведемо температуру за Фаренгейтом у градуси Цельсія і навпаки. Формули тут надзвичайно прості:\n",
        "$$\n",
        "  C=(F-32)*0.5556\n",
        "$$\n",
        "$$\n",
        "  F=C*1.8+32\n",
        "$$\n",
        "Спробуйте в наступній комірці! Пам'ятайте про \"красиве\" введення і виведення даних."
      ]
    },
    {
      "cell_type": "code",
      "metadata": {
        "id": "8yhfAwYm5E_z",
        "colab": {
          "base_uri": "https://localhost:8080/"
        },
        "outputId": "90acb9b1-09b0-4848-d67e-d220899d9b57"
      },
      "source": [
        "def fahrenheit_to_celsius(F):\n",
        "    C = (F - 32) * 0.5556\n",
        "    return C\n",
        "\n",
        "def celsius_to_fahrenheit(C):\n",
        "    F = C * 1.8 + 32\n",
        "    return F\n",
        "\n",
        "# Зчитування вибору користувача (Фаренгейт чи Цельсій)\n",
        "choice = input('Оберіть одиниці вимірювання (F для Фаренгейта, C для Цельсія): ')\n",
        "\n",
        "temperature = float(input('Введіть температуру: '))\n",
        "\n",
        "if choice == 'F':\n",
        "    # Переведення з Фаренгейта в градуси Цельсія\n",
        "    celsius = fahrenheit_to_celsius(temperature)\n",
        "    print('Температура у градусах Цельсія: %6.2f°C' % celsius)\n",
        "elif choice == 'C':\n",
        "    # Переведення з градусів Цельсія в Фаренгейта\n",
        "    fahrenheit = celsius_to_fahrenheit(temperature)\n",
        "    print('Температура у Фаренгейтах: %6.2f°F' % fahrenheit)\n",
        "else:\n",
        "    print('Невірний вибір одиниць вимірювання. Оберіть \"F\" або \"C\".')"
      ],
      "execution_count": 3,
      "outputs": [
        {
          "output_type": "stream",
          "name": "stdout",
          "text": [
            "Оберіть одиниці вимірювання (F для Фаренгейта, C для Цельсія): F\n",
            "Введіть температуру: 23\n",
            "Температура у градусах Цельсія:  -5.00°C\n"
          ]
        }
      ]
    },
    {
      "cell_type": "markdown",
      "metadata": {
        "id": "rnapogmC6dta"
      },
      "source": [
        "Ще більше простих вправ з Python - [тут](https://www.w3resource.com/python-exercises/python-basic-exercises.php)"
      ]
    }
  ]
}